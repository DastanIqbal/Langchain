{
 "cells": [
  {
   "cell_type": "code",
   "execution_count": 1,
   "metadata": {},
   "outputs": [
    {
     "name": "stderr",
     "output_type": "stream",
     "text": [
      "/Users/iqbal/Iqbal/Study/Deeplearning.ai/Langchain/.venv/lib/python3.12/site-packages/langchain_core/_api/deprecation.py:119: LangChainDeprecationWarning: The class `HuggingFaceHub` was deprecated in LangChain 0.0.21 and will be removed in 0.3.0. Use HuggingFaceEndpoint instead.\n",
      "  warn_deprecated(\n",
      "/Users/iqbal/Iqbal/Study/Deeplearning.ai/Langchain/.venv/lib/python3.12/site-packages/tqdm/auto.py:21: TqdmWarning: IProgress not found. Please update jupyter and ipywidgets. See https://ipywidgets.readthedocs.io/en/stable/user_install.html\n",
      "  from .autonotebook import tqdm as notebook_tqdm\n"
     ]
    }
   ],
   "source": [
    "from langchain_community.llms import HuggingFaceHub\n",
    "from dotenv import load_dotenv, find_dotenv\n",
    "import os\n",
    "\n",
    "dotEnv = load_dotenv(find_dotenv()) # read local .env file\n",
    "huggingfacehub_api_token = os.getenv(\"HF_API_KEY\")\n",
    "\n",
    "model_repo = 'tiiuae/falcon-7b-instruct'\n",
    "\n",
    "llm = HuggingFaceHub(repo_id=model_repo, huggingfacehub_api_token=huggingfacehub_api_token)\n"
   ]
  },
  {
   "cell_type": "code",
   "execution_count": 2,
   "metadata": {},
   "outputs": [
    {
     "name": "stdout",
     "output_type": "stream",
     "text": [
      "Health is wealth, but is it the order of priority for most of us?\n",
      "We are all guilty of putting our health on the back burner. We all know that we should be eating healthier, exercising more, and getting enough sleep. But we all have our own priorities and we all have our own ways of prioritizing our lives.\n",
      "I have been working on my health for the past 5 years. I have been working on my health for the past 5 years. I have been working on my health for the past 5 years. I have been working on my\n"
     ]
    }
   ],
   "source": [
    "input = 'Health is wealth, but is it the order of priority for most of us?'\n",
    "output = llm.invoke(input)\n",
    "print(output)"
   ]
  }
 ],
 "metadata": {
  "kernelspec": {
   "display_name": ".venv",
   "language": "python",
   "name": "python3"
  },
  "language_info": {
   "codemirror_mode": {
    "name": "ipython",
    "version": 3
   },
   "file_extension": ".py",
   "mimetype": "text/x-python",
   "name": "python",
   "nbconvert_exporter": "python",
   "pygments_lexer": "ipython3",
   "version": "3.12.2"
  }
 },
 "nbformat": 4,
 "nbformat_minor": 2
}
