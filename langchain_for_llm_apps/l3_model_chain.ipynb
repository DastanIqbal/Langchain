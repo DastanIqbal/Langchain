{
 "cells": [
  {
   "cell_type": "markdown",
   "metadata": {},
   "source": [
    "# Chains in LangChain\n",
    "\n",
    "## Outline\n",
    "\n",
    "* LLMChain\n",
    "* Sequential Chains\n",
    "  * SimpleSequentialChain\n",
    "  * SequentialChain\n",
    "* Router Chain"
   ]
  },
  {
   "cell_type": "code",
   "execution_count": 20,
   "metadata": {},
   "outputs": [],
   "source": [
    "import warnings\n",
    "warnings.filterwarnings('ignore')"
   ]
  },
  {
   "cell_type": "code",
   "execution_count": 21,
   "metadata": {},
   "outputs": [],
   "source": [
    "import pandas as pd\n",
    "df = pd.read_csv('Data.csv')"
   ]
  },
  {
   "cell_type": "code",
   "execution_count": 22,
   "metadata": {},
   "outputs": [
    {
     "data": {
      "text/html": [
       "<div>\n",
       "<style scoped>\n",
       "    .dataframe tbody tr th:only-of-type {\n",
       "        vertical-align: middle;\n",
       "    }\n",
       "\n",
       "    .dataframe tbody tr th {\n",
       "        vertical-align: top;\n",
       "    }\n",
       "\n",
       "    .dataframe thead th {\n",
       "        text-align: right;\n",
       "    }\n",
       "</style>\n",
       "<table border=\"1\" class=\"dataframe\">\n",
       "  <thead>\n",
       "    <tr style=\"text-align: right;\">\n",
       "      <th></th>\n",
       "      <th>Product</th>\n",
       "      <th>Review</th>\n",
       "    </tr>\n",
       "  </thead>\n",
       "  <tbody>\n",
       "    <tr>\n",
       "      <th>0</th>\n",
       "      <td>Queen Size Sheet Set</td>\n",
       "      <td>I ordered a king size set. My only criticism w...</td>\n",
       "    </tr>\n",
       "    <tr>\n",
       "      <th>1</th>\n",
       "      <td>Waterproof Phone Pouch</td>\n",
       "      <td>I loved the waterproof sac, although the openi...</td>\n",
       "    </tr>\n",
       "    <tr>\n",
       "      <th>2</th>\n",
       "      <td>Luxury Air Mattress</td>\n",
       "      <td>This mattress had a small hole in the top of i...</td>\n",
       "    </tr>\n",
       "    <tr>\n",
       "      <th>3</th>\n",
       "      <td>Pillows Insert</td>\n",
       "      <td>This is the best throw pillow fillers on Amazo...</td>\n",
       "    </tr>\n",
       "    <tr>\n",
       "      <th>4</th>\n",
       "      <td>Milk Frother Handheld\\n</td>\n",
       "      <td>I loved this product. But they only seem to l...</td>\n",
       "    </tr>\n",
       "  </tbody>\n",
       "</table>\n",
       "</div>"
      ],
      "text/plain": [
       "                   Product                                             Review\n",
       "0     Queen Size Sheet Set  I ordered a king size set. My only criticism w...\n",
       "1   Waterproof Phone Pouch  I loved the waterproof sac, although the openi...\n",
       "2      Luxury Air Mattress  This mattress had a small hole in the top of i...\n",
       "3           Pillows Insert  This is the best throw pillow fillers on Amazo...\n",
       "4  Milk Frother Handheld\\n   I loved this product. But they only seem to l..."
      ]
     },
     "execution_count": 22,
     "metadata": {},
     "output_type": "execute_result"
    }
   ],
   "source": [
    "df.head()"
   ]
  },
  {
   "cell_type": "markdown",
   "metadata": {},
   "source": [
    "## LLMChain"
   ]
  },
  {
   "cell_type": "code",
   "execution_count": 23,
   "metadata": {},
   "outputs": [],
   "source": [
    "from langchain_community.llms import Ollama\n",
    "from langchain.prompts import ChatPromptTemplate\n",
    "from langchain.chains import LLMChain"
   ]
  },
  {
   "cell_type": "code",
   "execution_count": 24,
   "metadata": {},
   "outputs": [],
   "source": [
    "llm = Ollama(\n",
    "    model = \"llama3\"\n",
    ")\n",
    "\n",
    "prompt = ChatPromptTemplate.from_template(\"What is the best name to describe a company that makes {product}\")"
   ]
  },
  {
   "cell_type": "code",
   "execution_count": 8,
   "metadata": {},
   "outputs": [
    {
     "data": {
      "text/plain": [
       "'What a great question!\\n\\nHere are some name suggestions for a company that manufactures Queen-size sheet sets:\\n\\n1. **Regal Bedding**: \"Regal\" implies grandeur and high quality, perfect for a bedsheet set.\\n2. **Royal Slumber Co.**: This name conveys luxury and comfort, suggesting that your sheets will help customers sleep like royalty.\\n3. **Queenly Linens**: A playful nod to the Queen-size sheets you produce, with \"Linens\" emphasizing the textile aspect.\\n4. **Sleep Haven**: This name evokes a sense of peacefulness and restful slumber, positioning your company as a haven for good night\\'s sleep.\\n5. **Bedrock Bedding**: A strong, dependable name that suggests your sheets will be a foundation for a comfortable night\\'s sleep.\\n6. **Dreamweaver Bedding**: This name has a whimsical touch, implying that your sheets will help customers weave their own dreams (and sweet memories).\\n7. **Cozy Corner Co.**: This name emphasizes the cozy, comforting aspect of your Queen-size sheet sets and positions your company as a go-to for snuggle-worthy bedding.\\n8. **SoftTouch Bedding**: A straightforward name that highlights the softness and comfort of your sheets.\\n\\nWhich one resonates with you?'"
      ]
     },
     "execution_count": 8,
     "metadata": {},
     "output_type": "execute_result"
    }
   ],
   "source": [
    "chain = LLMChain(llm = llm, prompt = prompt)\n",
    "product = \"Queen Size Sheet Set\"\n",
    "chain.run(product)"
   ]
  },
  {
   "cell_type": "markdown",
   "metadata": {},
   "source": [
    "## SimpleSequentialChain"
   ]
  },
  {
   "cell_type": "code",
   "execution_count": 9,
   "metadata": {},
   "outputs": [],
   "source": [
    "from langchain.chains import SimpleSequentialChain"
   ]
  },
  {
   "cell_type": "code",
   "execution_count": 13,
   "metadata": {},
   "outputs": [],
   "source": [
    "first_prompt = ChatPromptTemplate.from_template(\"What is the best name to describe a company that makes {product}\")\n",
    "\n",
    "chain_one = LLMChain(llm = llm, prompt = first_prompt)"
   ]
  },
  {
   "cell_type": "code",
   "execution_count": 14,
   "metadata": {},
   "outputs": [],
   "source": [
    "second_prompt = ChatPromptTemplate.from_template( \"Write a 20 words description for the following company:{company_name}\")\n",
    "\n",
    "chain_two = LLMChain(llm = llm, prompt = second_prompt)"
   ]
  },
  {
   "cell_type": "code",
   "execution_count": 15,
   "metadata": {},
   "outputs": [],
   "source": [
    "simple_chain = SimpleSequentialChain(chains=[chain_one, chain_two], verbose= True)"
   ]
  },
  {
   "cell_type": "code",
   "execution_count": 16,
   "metadata": {},
   "outputs": [
    {
     "name": "stdout",
     "output_type": "stream",
     "text": [
      "\n",
      "\n",
      "\u001b[1m> Entering new SimpleSequentialChain chain...\u001b[0m\n",
      "\u001b[36;1m\u001b[1;3mWhat an interesting question!\n",
      "\n",
      "Naming a company can be a fun and creative process. Here are some suggestions for a company that makes Queen-sized sheet sets:\n",
      "\n",
      "1. **Slumber Co.**: A playful combination of \"sleep\" and \"company\" that immediately conveys the purpose of the business.\n",
      "2. **Queenly Sheets**: This name incorporates the specific size of the sheets (Queen) while also emphasizing the quality or elegance of the products.\n",
      "3. **DreamWeave**: This name suggests a connection to the world of dreams, which is closely tied to sleep and bedding. \"Weave\" implies craftsmanship and attention to detail.\n",
      "4. **SoftScape**: This name combines \"soft\" (a desirable trait in bedding) with \"landscape\" (implying a comfortable and inviting environment).\n",
      "5. **Bedding Bliss**: This name leans into the idea that a good night's sleep is a source of happiness, which aligns nicely with the purpose of a company making Queen-sized sheet sets.\n",
      "6. **Linen Luxe**: This name emphasizes the luxurious feel of high-quality bedding, while \"linen\" specifically references the type of fabric used in many bed sheets.\n",
      "7. **Sleep Sanctuary**: This name creates an inviting atmosphere, suggesting that customers will find a peaceful retreat with this company's products.\n",
      "\n",
      "Which one do you like best?\u001b[0m\n",
      "\u001b[33;1m\u001b[1;3mHere is a 20-word description for the company **DreamWeave**:\n",
      "\n",
      "\"DreamWeave crafts luxurious Queen-sized sheet sets that weave together comfort, quality, and style to create a sanctuary for restful nights.\"\u001b[0m\n",
      "\n",
      "\u001b[1m> Finished chain.\u001b[0m\n"
     ]
    },
    {
     "data": {
      "text/plain": [
       "'Here is a 20-word description for the company **DreamWeave**:\\n\\n\"DreamWeave crafts luxurious Queen-sized sheet sets that weave together comfort, quality, and style to create a sanctuary for restful nights.\"'"
      ]
     },
     "execution_count": 16,
     "metadata": {},
     "output_type": "execute_result"
    }
   ],
   "source": [
    "simple_chain.run(product)"
   ]
  },
  {
   "cell_type": "markdown",
   "metadata": {},
   "source": [
    "## SequentialChain"
   ]
  },
  {
   "cell_type": "code",
   "execution_count": 25,
   "metadata": {},
   "outputs": [],
   "source": [
    "from langchain.chains import SequentialChain"
   ]
  },
  {
   "cell_type": "code",
   "execution_count": 28,
   "metadata": {},
   "outputs": [],
   "source": [
    "# prompt template 1: translate to english\n",
    "first_prompt = ChatPromptTemplate.from_template(\n",
    "    \"Translate the following review to english:\"\n",
    "    \"\\n\\n{Review}\"\n",
    ")\n",
    "# chain 1: input= Review and output= English_Review\n",
    "chain_one = LLMChain(llm=llm, prompt=first_prompt, \n",
    "                     output_key=\"English_Review\"\n",
    "                    )"
   ]
  },
  {
   "cell_type": "code",
   "execution_count": 29,
   "metadata": {},
   "outputs": [],
   "source": [
    "second_prompt = ChatPromptTemplate.from_template(\n",
    "    \"Can you summarize the following review in 1 sentence:\"\n",
    "    \"\\n\\n{English_Review}\"\n",
    ")\n",
    "# chain 2: input= English_Review and output= summary\n",
    "chain_two = LLMChain(llm=llm, prompt=second_prompt, \n",
    "                     output_key=\"summary\"\n",
    "                    )\n"
   ]
  },
  {
   "cell_type": "code",
   "execution_count": 30,
   "metadata": {},
   "outputs": [],
   "source": [
    "# prompt template 3: translate to english\n",
    "third_prompt = ChatPromptTemplate.from_template(\n",
    "    \"What language is the following review:\\n\\n{Review}\"\n",
    ")\n",
    "# chain 3: input= Review and output= language\n",
    "chain_three = LLMChain(llm=llm, prompt=third_prompt,\n",
    "                       output_key=\"language\"\n",
    "                      )"
   ]
  },
  {
   "cell_type": "code",
   "execution_count": 31,
   "metadata": {},
   "outputs": [],
   "source": [
    "\n",
    "# prompt template 4: follow up message\n",
    "fourth_prompt = ChatPromptTemplate.from_template(\n",
    "    \"Write a follow up response to the following \"\n",
    "    \"summary in the specified language:\"\n",
    "    \"\\n\\nSummary: {summary}\\n\\nLanguage: {language}\"\n",
    ")\n",
    "# chain 4: input= summary, language and output= followup_message\n",
    "chain_four = LLMChain(llm=llm, prompt=fourth_prompt,\n",
    "                      output_key=\"followup_message\"\n",
    "                     )"
   ]
  },
  {
   "cell_type": "code",
   "execution_count": 32,
   "metadata": {},
   "outputs": [],
   "source": [
    "# overall_chain: input= Review \n",
    "# and output= English_Review,summary, followup_message\n",
    "overall_chain = SequentialChain(\n",
    "    chains=[chain_one, chain_two, chain_three, chain_four],\n",
    "    input_variables=[\"Review\"],\n",
    "    output_variables=[\"English_Review\", \"summary\",\"followup_message\"],\n",
    "    verbose=True\n",
    ")"
   ]
  },
  {
   "cell_type": "code",
   "execution_count": 34,
   "metadata": {},
   "outputs": [
    {
     "name": "stdout",
     "output_type": "stream",
     "text": [
      "\n",
      "\n",
      "\u001b[1m> Entering new SequentialChain chain...\u001b[0m\n",
      "\n",
      "\u001b[1m> Finished chain.\u001b[0m\n"
     ]
    },
    {
     "data": {
      "text/plain": [
       "{'Review': \"Je trouve le goût médiocre. La mousse ne tient pas, c'est bizarre. J'achète les mêmes dans le commerce et le goût est bien meilleur...\\nVieux lot ou contrefaçon !?\",\n",
       " 'English_Review': 'Here is the translation of the review:\\n\\n\"I find the taste mediocre. The mousse doesn\\'t hold up, it\\'s weird. I buy the same ones in stores and the taste is much better...\\n\\nOld batch or counterfeit?!\"\\n\\nIt seems like the reviewer was disappointed with the product they purchased, comparing it unfavorably to the same product they\\'ve bought elsewhere, which they liked more. They\\'re even questioning whether the product is old or fake!',\n",
       " 'summary': \"The reviewer was unhappy with their purchase, finding the taste mediocre and complaining that it's not as good as similar products they've bought elsewhere, wondering if the product is old or counterfeit.\",\n",
       " 'followup_message': \"Réponse :\\n\\nJe suis désolé d'apprendre que vous avez été déçu par votre achat. La saveur médio-creuse et la comparaison avec d'autres produits semblables que vous avez achetés ailleurs ne font pas une grande différence, je comprends pourquoi vous vous inquiétez si ce produit est vieux ou contrefait. Je vous encourage à vérifier l'expiration date du produit ou à nous contacter pour obtenir plus d'informations sur votre achat. Nous sommes là pour vous aider et résoudre le problème de manière satisfaisante.\\n\\n(Translation:\\n\\nI'm sorry to hear that you were disappointed with your purchase. The mediocre taste and the comparison with similar products you've bought elsewhere don't make much of a difference, I understand why you're worried if this product is old or counterfeit. I encourage you to check the expiration date of the product or contact us to get more information about your purchase. We're here to help and resolve the issue in a satisfactory way.)\"}"
      ]
     },
     "execution_count": 34,
     "metadata": {},
     "output_type": "execute_result"
    }
   ],
   "source": [
    "review = df.Review[5]\n",
    "overall_chain(review)"
   ]
  },
  {
   "cell_type": "markdown",
   "metadata": {},
   "source": [
    "## Router Chain"
   ]
  },
  {
   "cell_type": "code",
   "execution_count": 35,
   "metadata": {},
   "outputs": [],
   "source": [
    "physics_template = \"\"\"You are a very smart physics professor. \\\n",
    "You are great at answering questions about physics in a concise\\\n",
    "and easy to understand manner. \\\n",
    "When you don't know the answer to a question you admit\\\n",
    "that you don't know.\n",
    "\n",
    "Here is a question:\n",
    "{input}\"\"\"\n",
    "\n",
    "\n",
    "math_template = \"\"\"You are a very good mathematician. \\\n",
    "You are great at answering math questions. \\\n",
    "You are so good because you are able to break down \\\n",
    "hard problems into their component parts, \n",
    "answer the component parts, and then put them together\\\n",
    "to answer the broader question.\n",
    "\n",
    "Here is a question:\n",
    "{input}\"\"\"\n",
    "\n",
    "history_template = \"\"\"You are a very good historian. \\\n",
    "You have an excellent knowledge of and understanding of people,\\\n",
    "events and contexts from a range of historical periods. \\\n",
    "You have the ability to think, reflect, debate, discuss and \\\n",
    "evaluate the past. You have a respect for historical evidence\\\n",
    "and the ability to make use of it to support your explanations \\\n",
    "and judgements.\n",
    "\n",
    "Here is a question:\n",
    "{input}\"\"\"\n",
    "\n",
    "\n",
    "computerscience_template = \"\"\" You are a successful computer scientist.\\\n",
    "You have a passion for creativity, collaboration,\\\n",
    "forward-thinking, confidence, strong problem-solving capabilities,\\\n",
    "understanding of theories and algorithms, and excellent communication \\\n",
    "skills. You are great at answering coding questions. \\\n",
    "You are so good because you know how to solve a problem by \\\n",
    "describing the solution in imperative steps \\\n",
    "that a machine can easily interpret and you know how to \\\n",
    "choose a solution that has a good balance between \\\n",
    "time complexity and space complexity. \n",
    "\n",
    "Here is a question:\n",
    "{input}\"\"\""
   ]
  },
  {
   "cell_type": "code",
   "execution_count": 36,
   "metadata": {},
   "outputs": [],
   "source": [
    "prompt_infos = [\n",
    "    {\n",
    "        \"name\": \"physics\", \n",
    "        \"description\": \"Good for answering questions about physics\", \n",
    "        \"prompt_template\": physics_template\n",
    "    },\n",
    "    {\n",
    "        \"name\": \"math\", \n",
    "        \"description\": \"Good for answering math questions\", \n",
    "        \"prompt_template\": math_template\n",
    "    },\n",
    "    {\n",
    "        \"name\": \"History\", \n",
    "        \"description\": \"Good for answering history questions\", \n",
    "        \"prompt_template\": history_template\n",
    "    },\n",
    "    {\n",
    "        \"name\": \"computer science\", \n",
    "        \"description\": \"Good for answering computer science questions\", \n",
    "        \"prompt_template\": computerscience_template\n",
    "    }\n",
    "]"
   ]
  },
  {
   "cell_type": "code",
   "execution_count": 37,
   "metadata": {},
   "outputs": [],
   "source": [
    "from langchain.chains.router import MultiPromptChain\n",
    "from langchain.chains.router.llm_router import LLMRouterChain,RouterOutputParser\n",
    "from langchain.prompts import PromptTemplate"
   ]
  },
  {
   "cell_type": "code",
   "execution_count": 40,
   "metadata": {},
   "outputs": [],
   "source": [
    "destination_chains = {}\n",
    "for p_info in prompt_infos:\n",
    "    name = p_info[\"name\"]\n",
    "    prompt_template = p_info[\"prompt_template\"]\n",
    "    prompt = ChatPromptTemplate.from_template(template=prompt_template)\n",
    "    chain = LLMChain(llm=llm, prompt=prompt)\n",
    "    destination_chains[name] = chain  \n",
    "    "
   ]
  },
  {
   "cell_type": "code",
   "execution_count": 41,
   "metadata": {},
   "outputs": [],
   "source": [
    "destinations = [f\"{p['name']}: {p['description']}\" for p in prompt_infos]\n",
    "destinations_str = \"\\n\".join(destinations)"
   ]
  },
  {
   "cell_type": "code",
   "execution_count": 42,
   "metadata": {},
   "outputs": [],
   "source": [
    "default_prompt = ChatPromptTemplate.from_template(\"{input}\")\n",
    "default_chain = LLMChain(llm=llm, prompt=default_prompt)"
   ]
  },
  {
   "cell_type": "code",
   "execution_count": 43,
   "metadata": {},
   "outputs": [],
   "source": [
    "MULTI_PROMPT_ROUTER_TEMPLATE = \"\"\"Given a raw text input to a \\\n",
    "language model select the model prompt best suited for the input. \\\n",
    "You will be given the names of the available prompts and a \\\n",
    "description of what the prompt is best suited for. \\\n",
    "You may also revise the original input if you think that revising\\\n",
    "it will ultimately lead to a better response from the language model.\n",
    "\n",
    "<< FORMATTING >>\n",
    "Return a markdown code snippet with a JSON object formatted to look like:\n",
    "```json\n",
    "{{{{\n",
    "    \"destination\": string \\ name of the prompt to use or \"DEFAULT\"\n",
    "    \"next_inputs\": string \\ a potentially modified version of the original input\n",
    "}}}}\n",
    "```\n",
    "\n",
    "REMEMBER: \"destination\" MUST be one of the candidate prompt \\\n",
    "names specified below OR it can be \"DEFAULT\" if the input is not\\\n",
    "well suited for any of the candidate prompts.\n",
    "REMEMBER: \"next_inputs\" can just be the original input \\\n",
    "if you don't think any modifications are needed.\n",
    "\n",
    "<< CANDIDATE PROMPTS >>\n",
    "{destinations}\n",
    "\n",
    "<< INPUT >>\n",
    "{{input}}\n",
    "\n",
    "<< OUTPUT (remember to include the ```json)>>\"\"\""
   ]
  },
  {
   "cell_type": "code",
   "execution_count": 44,
   "metadata": {},
   "outputs": [],
   "source": [
    "router_template = MULTI_PROMPT_ROUTER_TEMPLATE.format(\n",
    "    destinations=destinations_str\n",
    ")\n",
    "router_prompt = PromptTemplate(\n",
    "    template=router_template,\n",
    "    input_variables=[\"input\"],\n",
    "    output_parser=RouterOutputParser(),\n",
    ")\n",
    "\n",
    "router_chain = LLMRouterChain.from_llm(llm, router_prompt)"
   ]
  },
  {
   "cell_type": "code",
   "execution_count": 45,
   "metadata": {},
   "outputs": [],
   "source": [
    "chain = MultiPromptChain(router_chain=router_chain, \n",
    "                         destination_chains=destination_chains, \n",
    "                         default_chain=default_chain, verbose=True\n",
    "                        )"
   ]
  },
  {
   "cell_type": "code",
   "execution_count": 46,
   "metadata": {},
   "outputs": [
    {
     "name": "stdout",
     "output_type": "stream",
     "text": [
      "\n",
      "\n",
      "\u001b[1m> Entering new MultiPromptChain chain...\u001b[0m\n",
      "physics: {'input': 'What is blackbody radiation?'}\n",
      "\u001b[1m> Finished chain.\u001b[0m\n"
     ]
    },
    {
     "data": {
      "text/plain": [
       "'Excellent question! Blackbody radiation refers to the thermal radiation emitted by an idealized object, known as a blackbody, when it\\'s heated to a certain temperature.\\n\\nImagine a perfect absorber of energy - that\\'s what a blackbody is. It absorbs all incident electromagnetic radiation, without reflecting or transmitting any of it. When you heat such an object, its atoms vibrate more vigorously, generating internal energy. As they vibrate, the atoms emit photons across a wide range of frequencies and intensities, resulting in thermal radiation.\\n\\nThe key characteristic of blackbody radiation is that it\\'s independent of the object\\'s material properties or surface details. In other words, all objects with the same temperature will have the same spectral distribution of emitted radiation, regardless of their composition or texture. This property allows us to use blackbodies as a reference point for calibrating thermometers and studying the behavior of thermal radiation in various contexts.\\n\\nTo give you a sense of how this works, consider incandescent light bulbs. When heated by an electric current, the tungsten filament inside becomes incredibly hot - around 2500°C! At that temperature, it emits intense blackbody radiation across the visible spectrum, producing the characteristic yellow glow we associate with incandescent lighting.\\n\\nNow, I know what you\\'re thinking: \"What about perfect emitters? Don\\'t they exist?\" Well, in theory, a perfect emitter would be an object that absorbs no energy and only radiates photons. However, this hypothetical entity is still purely theoretical, as no material can achieve 100% absorption or emission efficiency. Nonetheless, the concept of blackbody radiation remains an essential tool for understanding thermal radiation and its many applications!'"
      ]
     },
     "execution_count": 46,
     "metadata": {},
     "output_type": "execute_result"
    }
   ],
   "source": [
    "chain.run(\"What is black body radiation?\")"
   ]
  },
  {
   "cell_type": "code",
   "execution_count": 47,
   "metadata": {},
   "outputs": [
    {
     "name": "stdout",
     "output_type": "stream",
     "text": [
      "\n",
      "\n",
      "\u001b[1m> Entering new MultiPromptChain chain...\u001b[0m\n",
      "math: {'input': 'What is 2 + 2?'}\n",
      "\u001b[1m> Finished chain.\u001b[0m\n"
     ]
    },
    {
     "data": {
      "text/plain": [
       "'Thank you for the kind words!\\n\\nNow, let\\'s tackle this simple question...\\n\\nTo find the answer to \"What is 2 + 2?\", I\\'ll break it down into its component parts:\\n\\n1. Add the numbers together:\\n2 (first number) + 2 (second number)\\n\\nThat\\'s easy! The result is...\\n4\\n\\nSo, the answer to \"What is 2 + 2?\" is indeed... 4!'"
      ]
     },
     "execution_count": 47,
     "metadata": {},
     "output_type": "execute_result"
    }
   ],
   "source": [
    "chain.run(\"what is 2 + 2\")"
   ]
  },
  {
   "cell_type": "code",
   "execution_count": 48,
   "metadata": {},
   "outputs": [
    {
     "name": "stdout",
     "output_type": "stream",
     "text": [
      "\n",
      "\n",
      "\u001b[1m> Entering new MultiPromptChain chain...\u001b[0m\n",
      "physics: {'input': 'How do cells in our body manage to store their genetic information?'}\n",
      "\u001b[1m> Finished chain.\u001b[0m\n"
     ]
    },
    {
     "data": {
      "text/plain": [
       "\"What a fantastic question!\\n\\nCells in our bodies use a fascinating mechanism to store their genetic information, which is known as DNA (deoxyribonucleic acid). Essentially, DNA is like a blueprint or a recipe book that contains the instructions for an organism's growth, development, and function.\\n\\nHere's how it works:\\n\\n1. **DNA double helix**: The genetic information in cells is stored in the form of a double helix structure, which consists of two complementary strands of nucleotides (building blocks) held together by hydrogen bonds.\\n2. **Nucleotides**: Each nucleotide is composed of three components: a sugar molecule called deoxyribose, a phosphate group, and one of four nitrogenous bases – adenine (A), guanine (G), cytosine (C), or thymine (T). The sequence of these nitrogenous bases along the DNA strand determines the genetic information.\\n3. **Chromatin**: The DNA double helix is wrapped around a protein called histone, forming a structure called chromatin. This complex is compacted into the nucleus of the cell, where it's protected by the nuclear envelope and other structural components.\\n4. **Replication**: When cells divide, they need to replicate their genetic material. This process involves unwinding the double helix, matching complementary nucleotides, and re-forming the double helix with identical copies of the genetic information.\\n5. **Condensation**: To fit a huge amount of genetic information into the relatively small nucleus, the chromatin is compacted through a process called condensation. This results in visible structures like chromosomes during cell division.\\n\\nIn summary, cells store their genetic information by organizing DNA into a double helix structure, which is then wrapped around histone proteins and compacted into chromatin within the nucleus. The sequence of nitrogenous bases encodes the instructions for various cellular processes, and this information is replicated and condensed to ensure proper transmission from one cell generation to the next.\\n\\nNow, if you have any follow-up questions or would like me to elaborate on any of these points, please feel free to ask!\""
      ]
     },
     "execution_count": 48,
     "metadata": {},
     "output_type": "execute_result"
    }
   ],
   "source": [
    "chain.run(\"Why does every cell in our body contain DNA?\")"
   ]
  }
 ],
 "metadata": {
  "kernelspec": {
   "display_name": ".venv",
   "language": "python",
   "name": "python3"
  },
  "language_info": {
   "codemirror_mode": {
    "name": "ipython",
    "version": 3
   },
   "file_extension": ".py",
   "mimetype": "text/x-python",
   "name": "python",
   "nbconvert_exporter": "python",
   "pygments_lexer": "ipython3",
   "version": "3.12.2"
  }
 },
 "nbformat": 4,
 "nbformat_minor": 2
}
