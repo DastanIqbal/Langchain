{
    "cells": [
     {
      "cell_type": "markdown",
      "metadata": {},
      "source": [
       "# Retrieval\n",
       "\n",
       "Retrieval is the centerpiece of our retrieval augmented generation (RAG) flow. \n",
       "\n",
       "Let's get our vectorDB from before."
      ]
     },
     {
      "cell_type": "markdown",
      "metadata": {},
      "source": [
       "### Similarity Search"
      ]
     },
     {
      "cell_type": "code",
      "execution_count": 3,
      "metadata": {},
      "outputs": [],
      "source": [
       "from langchain_community.llms import Ollama\n",
       "from langchain.embeddings import OllamaEmbeddings\n",
       "persist_directory = 'docs/chroma/'"
      ]
     },
     {
      "cell_type": "code",
      "execution_count": 2,
      "metadata": {},
      "outputs": [],
      "source": [
       "llm = Ollama(model = \"llama3\")\n",
       "embedding = OllamaEmbeddings(model = \"nomic-embed-text\")"
      ]
     },
     {
      "cell_type": "code",
      "execution_count": 4,
      "metadata": {},
      "outputs": [],
      "source": [
       "from langchain.vectorstores import Chroma\n",
       "vectordb = Chroma(persist_directory=persist_directory, embedding_function=embedding)"
      ]
     },
     {
      "cell_type": "code",
      "execution_count": 6,
      "metadata": {},
      "outputs": [
       {
        "name": "stdout",
        "output_type": "stream",
        "text": [
         "228\n"
        ]
       }
      ],
      "source": [
       "print(vectordb._collection.count())"
      ]
     },
     {
      "cell_type": "code",
      "execution_count": 7,
      "metadata": {},
      "outputs": [],
      "source": [
       "texts = [\n",
       "    \"\"\"The Amanita phalloides has a large and imposing epigeous (aboveground) fruiting body (basidiocarp).\"\"\",\n",
       "    \"\"\"A mushroom with a large fruiting body is the Amanita phalloides. Some varieties are all-white.\"\"\",\n",
       "    \"\"\"A. phalloides, a.k.a Death Cap, is one of the most poisonous of all known mushrooms.\"\"\",\n",
       "]"
      ]
     },
     {
      "cell_type": "code",
      "execution_count": 8,
      "metadata": {},
      "outputs": [],
      "source": [
       "smalldb = Chroma.from_texts(texts=texts, embedding= embedding)"
      ]
     },
     {
      "cell_type": "code",
      "execution_count": 9,
      "metadata": {},
      "outputs": [],
      "source": [
       "question = \"Tell me about all-white mushrooms with large fruiting bodies\""
      ]
     },
     {
      "cell_type": "code",
      "execution_count": 11,
      "metadata": {},
      "outputs": [
       {
        "data": {
         "text/plain": [
          "[Document(page_content='A mushroom with a large fruiting body is the Amanita phalloides. Some varieties are all-white.'),\n",
          " Document(page_content='A. phalloides, a.k.a Death Cap, is one of the most poisonous of all known mushrooms.')]"
         ]
        },
        "execution_count": 11,
        "metadata": {},
        "output_type": "execute_result"
       }
      ],
      "source": [
       "smalldb.similarity_search(question, k= 2)"
      ]
     },
     {
      "cell_type": "code",
      "execution_count": 12,
      "metadata": {},
      "outputs": [
       {
        "data": {
         "text/plain": [
          "[Document(page_content='A mushroom with a large fruiting body is the Amanita phalloides. Some varieties are all-white.'),\n",
          " Document(page_content='A. phalloides, a.k.a Death Cap, is one of the most poisonous of all known mushrooms.')]"
         ]
        },
        "execution_count": 12,
        "metadata": {},
        "output_type": "execute_result"
       }
      ],
      "source": [
       "smalldb.max_marginal_relevance_search(question,k=2, fetch_k=3)"
      ]
     },
     {
      "cell_type": "markdown",
      "metadata": {},
      "source": [
       "### Addressing Diversity: Maximum marginal relevance\n",
       "\n",
       "Last class we introduced one problem: how to enforce diversity in the search results.\n",
       " \n",
       "`Maximum marginal relevance` strives to achieve both relevance to the query *and diversity* among the results."
      ]
     },
     {
      "cell_type": "code",
      "execution_count": 20,
      "metadata": {},
      "outputs": [],
      "source": [
       "question = \"what did they say about matlab?\""
      ]
     },
     {
      "cell_type": "code",
      "execution_count": 21,
      "metadata": {},
      "outputs": [],
      "source": [
       "docs_ss = vectordb.similarity_search(question, k=3)"
      ]
     },
     {
      "cell_type": "code",
      "execution_count": 22,
      "metadata": {},
      "outputs": [
       {
        "data": {
         "text/plain": [
          "'into his office and he said, \"Oh, professo r, professor, thank you so much for your \\nmachine learnin'"
         ]
        },
        "execution_count": 22,
        "metadata": {},
        "output_type": "execute_result"
       }
      ],
      "source": [
       "docs_ss[0].page_content[:100]"
      ]
     },
     {
      "cell_type": "code",
      "execution_count": 23,
      "metadata": {},
      "outputs": [
       {
        "data": {
         "text/plain": [
          "'into his office and he said, \"Oh, professo r, professor, thank you so much for your \\nmachine learnin'"
         ]
        },
        "execution_count": 23,
        "metadata": {},
        "output_type": "execute_result"
       }
      ],
      "source": [
       "docs_ss[1].page_content[:100]"
      ]
     },
     {
      "cell_type": "code",
      "execution_count": 24,
      "metadata": {},
      "outputs": [],
      "source": [
       "docs_mmr = vectordb.max_marginal_relevance_search(question,k=3)"
      ]
     },
     {
      "cell_type": "code",
      "execution_count": 29,
      "metadata": {},
      "outputs": [
       {
        "data": {
         "text/plain": [
          "'into his office and he said, \"Oh, professo r, professor, thank you so much for your \\nmachine learnin'"
         ]
        },
        "execution_count": 29,
        "metadata": {},
        "output_type": "execute_result"
       }
      ],
      "source": [
       "docs_mmr[0].page_content[:100]"
      ]
     },
     {
      "cell_type": "code",
      "execution_count": 30,
      "metadata": {},
      "outputs": [
       {
        "data": {
         "text/plain": [
          "'those homeworks will be done in either MATLA B or in Octave, which is sort of — I \\nknow some people '"
         ]
        },
        "execution_count": 30,
        "metadata": {},
        "output_type": "execute_result"
       }
      ],
      "source": [
       "docs_mmr[1].page_content[:100]"
      ]
     },
     {
      "cell_type": "markdown",
      "metadata": {},
      "source": [
       "### Addressing Specificity: working with metadata\n",
       "\n",
       "In last lecture, we showed that a question about the third lecture can include results from other lectures as well.\n",
       "\n",
       "To address this, many vectorstores support operations on `metadata`.\n",
       "\n",
       "`metadata` provides context for each embedded chunk."
      ]
     },
     {
      "cell_type": "code",
      "execution_count": 31,
      "metadata": {},
      "outputs": [],
      "source": [
       "question = \"what did they say about regression in the third lecture?\""
      ]
     },
     {
      "cell_type": "code",
      "execution_count": 35,
      "metadata": {},
      "outputs": [],
      "source": [
       "docs = vectordb.similarity_search(\n",
       "    question,\n",
       "    k=3,\n",
       "    filter={\"source\":\"docs/MachineLearning-Lecture01.pdf\"}\n",
       ")"
      ]
     },
     {
      "cell_type": "code",
      "execution_count": 36,
      "metadata": {},
      "outputs": [
       {
        "name": "stdout",
        "output_type": "stream",
        "text": [
         "{'page': 8, 'source': 'docs/MachineLearning-Lecture01.pdf'}\n",
         "{'page': 8, 'source': 'docs/MachineLearning-Lecture01.pdf'}\n",
         "{'page': 8, 'source': 'docs/MachineLearning-Lecture01.pdf'}\n"
        ]
       }
      ],
      "source": [
       "for d in docs:\n",
       "    print(d.metadata)"
      ]
     },
     {
      "cell_type": "markdown",
      "metadata": {},
      "source": [
       "### Additional tricks: compression\n",
       "\n",
       "Another approach for improving the quality of retrieved docs is compression.\n",
       "\n",
       "Information most relevant to a query may be buried in a document with a lot of irrelevant text. \n",
       "\n",
       "Passing that full document through your application can lead to more expensive LLM calls and poorer responses.\n",
       "\n",
       "Contextual compression is meant to fix this. "
      ]
     },
     {
      "cell_type": "code",
      "execution_count": 37,
      "metadata": {},
      "outputs": [],
      "source": [
       "from langchain.retrievers import ContextualCompressionRetriever\n",
       "from langchain.retrievers.document_compressors import LLMChainExtractor"
      ]
     },
     {
      "cell_type": "code",
      "execution_count": 38,
      "metadata": {},
      "outputs": [],
      "source": [
       "def pretty_print_docs(docs):\n",
       "    print(f\"\\n{'-' * 100}\\n\".join([f\"Document {i+1}:\\n\\n\" + d.page_content for i, d in enumerate(docs)]))"
      ]
     },
     {
      "cell_type": "code",
      "execution_count": 39,
      "metadata": {},
      "outputs": [],
      "source": [
       "compressor = LLMChainExtractor.from_llm(llm)"
      ]
     },
     {
      "cell_type": "code",
      "execution_count": 40,
      "metadata": {},
      "outputs": [],
      "source": [
       "compression_retriever = ContextualCompressionRetriever(\n",
       "    base_compressor=compressor,\n",
       "    base_retriever=vectordb.as_retriever()\n",
       ")"
      ]
     },
     {
      "cell_type": "code",
      "execution_count": 41,
      "metadata": {},
      "outputs": [
       {
        "name": "stdout",
        "output_type": "stream",
        "text": [
         "Document 1:\n",
         "\n",
         "*AS IS*\n",
         "\n",
         "\"So... what was it that you learned? Was it logistic regression? Was it the PCA? Was it the data networks? What was it that you learned that was so helpful?\" And the student said, \"Oh, it was the MATLAB.\" So for those of you that don't know MATLAB yet, I hope you do learn it. It's not hard, and we'll actually have a short MATLAB tutorial in one of the discussion sections for those of you that don't know it.\n",
         "\n",
         "Extracted relevant parts:\n",
         "----------------------------------------------------------------------------------------------------\n",
         "Document 2:\n",
         "\n",
         "Here are the extracted relevant parts:\n",
         "\n",
         "\"So my friend was very excited. He said, 'W ow. That's great. I'm glad to hear this machine learning stuff was actually useful. So what was it that you learned? Was it logistic regression? Was it the PCA? Was it the data networks? What was it that you learned that was so helpful?' And the student said, 'Oh, it was the MATLAB.'\"\n",
         "----------------------------------------------------------------------------------------------------\n",
         "Document 3:\n",
         "\n",
         "*AS IS*\n",
         "\n",
         "\"it was the MATLAB.\"\n",
         "\"So for those of you that don't know MATLAB yet, I hope you do learn it. It's not hard, and we'll actually have a short MATLAB tutorial in one of the discussion sections for those of you that don’t know it.\"\n",
         "----------------------------------------------------------------------------------------------------\n",
         "Document 4:\n",
         "\n",
         "*AS IS*\n",
         "\n",
         "\"So my friend was very excited. He said, 'W ow. That's great. I'm glad to hear this machine learning stuff was actually useful. So what was it that you learned? Was it logistic regression? Was it the PCA? Was it the data networks? What was it that you learned that was so helpful?' And the student said, 'Oh, it was the MATLAB.'\"\n",
         "\n",
         "Extracted relevant part: \"It was the MATLAB.\"\n"
        ]
       }
      ],
      "source": [
       "question = \"what did they say about matlab?\"\n",
       "compressed_docs = compression_retriever.get_relevant_documents(question)\n",
       "pretty_print_docs(compressed_docs)"
      ]
     },
     {
      "cell_type": "markdown",
      "metadata": {},
      "source": [
       "## Combining various techniques"
      ]
     },
     {
      "cell_type": "code",
      "execution_count": 42,
      "metadata": {},
      "outputs": [],
      "source": [
       "compression_retriever = ContextualCompressionRetriever(\n",
       "    base_compressor=compressor,\n",
       "    base_retriever=vectordb.as_retriever(search_type = \"mmr\")\n",
       ")"
      ]
     },
     {
      "cell_type": "code",
      "execution_count": 43,
      "metadata": {},
      "outputs": [
       {
        "name": "stdout",
        "output_type": "stream",
        "text": [
         "Document 1:\n",
         "\n",
         "*AS IS*\n",
         "\n",
         "\"So my friend was very excited. He said, 'Wow. That's great. I'm glad to hear this machine learning stuff was actually useful. So what was it that you learned? Was it logistic regression? Was it the PCA? Was it the data networks? What was it that you learned that was so helpful?' And the student said, 'Oh, it was the MATLAB.'\"\n",
         "\n",
         "*NO OUTPUT*\n",
         "----------------------------------------------------------------------------------------------------\n",
         "Document 2:\n",
         "\n",
         "> those homeworks will be done in either MATLA B or in Octave, which is sort of  — I know some people call it a free version of MATLAB, which it sort of is, sort of isn' t.\n",
         "> So I guess for those of you that haven't seen MATLAB before, and I know most of you have, MATLAB is I guess part of the programming language that makes it very easy to write codes using matrices, to write code for numerical routines, to move data around, to plot data. And it's sort of an extremely easy to learn tool to use for implementing a lot of learning algorithms.\n",
         "> there's also — [inaudible] MATLAB — there's also a software package called Octave that you can download for free off the Internet. And it has somewhat fewer features than MATLAB, but it's free, and for the purposes of this class, it will work for just about everything.\n",
         "\n",
         "NO_OUTPUT.\n",
         "----------------------------------------------------------------------------------------------------\n",
         "Document 3:\n",
         "\n",
         "I extracted the following parts from the context that are relevant to answer the question:\n",
         "\n",
         "* \"But I think MATLAB is actually totally worth learning.\"\n",
         "* \"I know R and MATLAB, and I personally end up using MATLAB quite a bit more often for various reasons.\"\n",
         "\n",
         "These quotes directly address what Andrew Ng thinks about MATLAB.\n"
        ]
       }
      ],
      "source": [
       "question = \"what did they say about matlab?\"\n",
       "compressed_docs = compression_retriever.get_relevant_documents(question)\n",
       "pretty_print_docs(compressed_docs)"
      ]
     },
     {
      "cell_type": "markdown",
      "metadata": {},
      "source": [
       "## Other types of retrieval\n",
       "\n",
       "It's worth noting that vectordb as not the only kind of tool to retrieve documents. \n",
       "\n",
       "The `LangChain` retriever abstraction includes other ways to retrieve documents, such as TF-IDF or SVM."
      ]
     },
     {
      "cell_type": "code",
      "execution_count": 44,
      "metadata": {},
      "outputs": [],
      "source": [
       "from langchain.document_loaders import PyPDFLoader\n",
       "from langchain.text_splitter import RecursiveCharacterTextSplitter"
      ]
     },
     {
      "cell_type": "code",
      "execution_count": 48,
      "metadata": {},
      "outputs": [],
      "source": [
       "# Load\n",
       "loader = PyPDFLoader(\n",
       "    \"docs/MachineLearning-Lecture01.pdf\"\n",
       ")\n",
       "pages = loader.load()\n",
       "\n",
       "all_page_content = [p.page_content for p in pages]\n",
       "joined_page_content = \" \".join(all_page_content)"
      ]
     },
     {
      "cell_type": "code",
      "execution_count": 55,
      "metadata": {},
      "outputs": [],
      "source": [
       "# Split\n",
       "\n",
       "r_splitter = RecursiveCharacterTextSplitter(chunk_size = 1500, chunk_overlap=150)\n",
       "splits = r_splitter.split_text(joined_page_content)"
      ]
     },
     {
      "cell_type": "code",
      "execution_count": 57,
      "metadata": {},
      "outputs": [],
      "source": [
       "# Reterive \n",
       "\n",
       "from langchain.retrievers import SVMRetriever\n",
       "from langchain.retrievers import TFIDFRetriever\n",
       "\n",
       "svm_retriever = SVMRetriever.from_texts(splits, embeddings=embedding) \n",
       "tfid_retriever = SVMRetriever.from_texts(splits, embeddings=embedding) \n"
      ]
     },
     {
      "cell_type": "code",
      "execution_count": 59,
      "metadata": {},
      "outputs": [
       {
        "name": "stderr",
        "output_type": "stream",
        "text": [
         "/Users/iqbal/Iqbal/Study/Deeplearning.ai/Langchain/.venv/lib/python3.12/site-packages/sklearn/svm/_classes.py:31: FutureWarning: The default value of `dual` will change from `True` to `'auto'` in 1.5. Set the value of `dual` explicitly to suppress the warning.\n",
         "  warnings.warn(\n"
        ]
       },
       {
        "data": {
         "text/plain": [
          "Document(page_content=\"course information handout. So let me just sa y a few words about parts of these. On the \\nthird page, there's a section that says Online Resources.  \\nOh, okay. Louder? Actually, could you turn up the volume? Testing. Is this better? \\nTesting, testing. Okay, cool. Thanks.   So all right, online resources. The class has a home page, so it's in on the handouts. I \\nwon't write on the chalkboard — http:// cs229.stanford.edu. And so when there are \\nhomework assignments or things like that, we  usually won't sort of — in the mission of \\nsaving trees, we will usually not give out many handouts in class. So homework \\nassignments, homework solutions will be posted online at the course home page.  \\nAs far as this class, I've also written, a nd I guess I've also revised every year a set of \\nfairly detailed lecture notes that cover the te chnical content of this  class. And so if you \\nvisit the course homepage, you'll also find the detailed lecture notes that go over in detail \\nall the math and equations and so on  that I'll be doing in class.  \\nThere's also a newsgroup, su.class.cs229, also written on the handout. This is a \\nnewsgroup that's sort of a forum for people in  the class to get to  know each other and \\nhave whatever discussions you want to ha ve amongst yourselves. So the class newsgroup \\nwill not be monitored by the TAs and me. But this is a place for you to form study groups \\nor find project partners or discuss homework problems and so on, and it's not monitored\")"
         ]
        },
        "execution_count": 59,
        "metadata": {},
        "output_type": "execute_result"
       }
      ],
      "source": [
       "question = \"What are major topics for this class?\"\n",
       "docs_svm = svm_retriever.get_relevant_documents(question)\n",
       "docs_svm[0]"
      ]
     },
     {
      "cell_type": "code",
      "execution_count": 60,
      "metadata": {},
      "outputs": [
       {
        "name": "stderr",
        "output_type": "stream",
        "text": [
         "/Users/iqbal/Iqbal/Study/Deeplearning.ai/Langchain/.venv/lib/python3.12/site-packages/sklearn/svm/_classes.py:31: FutureWarning: The default value of `dual` will change from `True` to `'auto'` in 1.5. Set the value of `dual` explicitly to suppress the warning.\n",
         "  warnings.warn(\n"
        ]
       },
       {
        "data": {
         "text/plain": [
          "Document(page_content=\"So as part of forming study groups, later t oday as you get to know your classmates, I \\ndefinitely also encourage you to grab two ot her people and form a group of up to three \\npeople for your project, okay? And just start brainstorming ideas for now amongst \\nyourselves. You can also come and talk to me or the TAs if you want to brainstorm ideas \\nwith us.  \\nOkay. So one more organizational ques tion. I'm curious, how many of you know \\nMATLAB? Wow, cool, quite a lot. Okay. So as part of the — act ually how many of you \\nknow Octave or have used Octave ? Oh, okay, much smaller number.  \\nSo as part of this class, especially in the homeworks, we'll ask you to implement a few \\nprograms, a few machine learning algorithms as  part of the homeworks. And most of  those homeworks will be done in either MATLA B or in Octave, which is sort of — I \\nknow some people call it a free ve rsion of MATLAB, which it sort  of is, sort of isn't.  \\nSo I guess for those of you that haven't s een MATLAB before, and I know most of you \\nhave, MATLAB is I guess part of the programming language that makes it very easy to write codes using matrices, to write code for numerical routines, to move data around, to \\nplot data. And it's sort of an extremely easy to  learn tool to use for implementing a lot of \\nlearning algorithms.  \\nAnd in case some of you want to work on your  own home computer or something if you \\ndon't have a MATLAB license, for the purposes of  this class, there's also — [inaudible]\")"
         ]
        },
        "execution_count": 60,
        "metadata": {},
        "output_type": "execute_result"
       }
      ],
      "source": [
       "question = \"What did they say about Matlab?\"\n",
       "docs_tfid = tfid_retriever.get_relevant_documents(question)\n",
       "docs_tfid[0]"
      ]
     }
    ],
    "metadata": {
     "kernelspec": {
      "display_name": ".venv",
      "language": "python",
      "name": "python3"
     },
     "language_info": {
      "codemirror_mode": {
       "name": "ipython",
       "version": 3
      },
      "file_extension": ".py",
      "mimetype": "text/x-python",
      "name": "python",
      "nbconvert_exporter": "python",
      "pygments_lexer": "ipython3",
      "version": "3.12.2"
     }
    },
    "nbformat": 4,
    "nbformat_minor": 2
   }
   
