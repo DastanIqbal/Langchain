{
 "cells": [
  {
   "cell_type": "code",
   "execution_count": 207,
   "metadata": {},
   "outputs": [],
   "source": [
    "from langchain_community.chat_models import ChatOllama\n",
    "from langchain.embeddings import OllamaEmbeddings"
   ]
  },
  {
   "cell_type": "code",
   "execution_count": 208,
   "metadata": {},
   "outputs": [],
   "source": [
    "llm = ChatOllama(model = \"llama3\")\n",
    "embedding = OllamaEmbeddings(model=\"nomic-embed-text\")"
   ]
  },
  {
   "cell_type": "markdown",
   "metadata": {},
   "source": [
    "# Document Loading"
   ]
  },
  {
   "cell_type": "code",
   "execution_count": 209,
   "metadata": {},
   "outputs": [],
   "source": [
    "from langchain.document_loaders import CSVLoader\n",
    "file_path = \"parking_spots.csv\""
   ]
  },
  {
   "cell_type": "code",
   "execution_count": 210,
   "metadata": {},
   "outputs": [
    {
     "name": "stdout",
     "output_type": "stream",
     "text": [
      "    Floor  Parking Number Parking Status  Parking Type      Metadata\n",
      "1       1               2         Filled  Special Need  Near to Door\n",
      "42      1              43          Empty           VIP   Left Corner\n",
      "43      1              44          Empty  Special Need  Near to Door\n",
      "45      1              46          Empty  Special Need  Near to Door\n",
      "46      1              47         Filled           VIP  Near to Door\n",
      "Total empty parking spots on the 1st floor: 89\n"
     ]
    }
   ],
   "source": [
    "import pandas as pd\n",
    "# Load the CSV file using pandas for data inspection\n",
    "df = pd.read_csv(file_path)\n",
    "\n",
    "# Sort data by floor and parking number\n",
    "df_sorted = df.sort_values(by=['Floor', 'Parking Number'])\n",
    "\n",
    "# Check the first few rows to confirm sorting\n",
    "print(df_sorted.head())\n",
    "\n",
    "# Count empty parking spots on the 1st floor\n",
    "first_floor_empty = df_sorted[(df_sorted['Floor'] == 1) & (df_sorted['Parking Status'] == 'Empty')]\n",
    "total_empty_first_floor = len(first_floor_empty)\n",
    "print(f\"Total empty parking spots on the 1st floor: {total_empty_first_floor}\")\n",
    "\n"
   ]
  },
  {
   "cell_type": "code",
   "execution_count": 211,
   "metadata": {},
   "outputs": [],
   "source": [
    "# Save the sorted data back to a CSV file\n",
    "sorted_file_path = \"sorted_parking_spots.csv\"\n",
    "df_sorted.to_csv(sorted_file_path, index=False)"
   ]
  },
  {
   "cell_type": "code",
   "execution_count": 246,
   "metadata": {},
   "outputs": [
    {
     "name": "stdout",
     "output_type": "stream",
     "text": [
      "89\n",
      "[HumanMessage(content='fetch empty Parking by floor number 1', id='03289e8c-3b99-45fc-b2be-d9846f60a904'), AIMessage(content='', id='run-1c07aba5-d803-4138-933f-0b6e355304ae-0', tool_calls=[{'name': 'empty_parking_byfloor', 'args': {'floor': 1}, 'id': 'call_412c36a1ea834736862ba5c70721ea9f'}]), ToolMessage(content='89', name='empty_parking_byfloor', id='51efc708-2541-4677-a4c9-d655a49cc01b', tool_call_id='call_412c36a1ea834736862ba5c70721ea9f')]\n"
     ]
    }
   ],
   "source": [
    "from langchain_core.tools import tool\n",
    "from langchain_core.messages import AIMessage\n",
    "from langchain_core.runnables import (\n",
    "    Runnable,\n",
    "    RunnableLambda,\n",
    "    RunnableMap,\n",
    "    RunnablePassthrough,\n",
    ")\n",
    "\n",
    "@tool\n",
    "def empty_parking_byfloor(floor: str) -> int:\n",
    "    \"\"\"Fetch Empty Parking by Floor number\"\"\"\n",
    "    try:\n",
    "        _floor = int(floor)\n",
    "    except TypeError as e:\n",
    "        _floor = str(e)\n",
    "\n",
    "    first_floor_empty = df_sorted[(df_sorted['Floor'] == _floor) & (df_sorted['Parking Status'] == 'Empty')]\n",
    "    total_empty_first_floor = len(first_floor_empty)\n",
    "    print(total_empty_first_floor)\n",
    "    return total_empty_first_floor\n",
    "\n",
    "# tools = [empty_parking_byfloor]\n",
    "# llm_with_tools = llm.bind_tools(tools)\n",
    "# tool_map = {tool.name: tool for tool in tools}\n",
    "\n",
    "def call_tools(msg: AIMessage) -> Runnable:\n",
    "    \"\"\"Simple sequential tool calling helper.\"\"\"\n",
    "    tool_map = {tool.name: tool for tool in tools}\n",
    "    tool_calls = msg.tool_calls.copy()\n",
    "    for tool_call in tool_calls:\n",
    "        tool_call[\"output\"] = tool_map[tool_call[\"name\"]].invoke(tool_call[\"args\"])\n",
    "    return tool_calls\n",
    "\n",
    "\n",
    "from typing import List, Literal\n",
    "\n",
    "from langchain_community.chat_models import ChatOllama\n",
    "from langchain_core.messages import BaseMessage, HumanMessage\n",
    "from langchain_core.tools import tool\n",
    "from langchain_experimental.llms.ollama_functions import OllamaFunctions\n",
    "from langgraph.graph import END, MessageGraph\n",
    "from langgraph.prebuilt import ToolNode\n",
    "    \n",
    "\n",
    "def router(state: List[BaseMessage]) -> Literal[\"empty_parking_byfloor\", \"__end__\"]:\n",
    "    last_message = state[-1]\n",
    "    tool_calls = last_message.tool_calls if isinstance(last_message, AIMessage) else []\n",
    "    if len(tool_calls):\n",
    "        return \"empty_parking_byfloor\"\n",
    "    else:\n",
    "        return \"__end__\"\n",
    "\n",
    "\n",
    "# model = ChatOllama(model=\"llama3\", temperature=0)\n",
    "model = OllamaFunctions(model=\"llama3\", temperature=0, format=\"json\")\n",
    "model_with_tools = model.bind_tools(\n",
    "    tools=[\n",
    "        {\n",
    "            \"name\": \"empty_parking_byfloor\",\n",
    "            \"description\": \"return fetch empty Parking by floor number\",\n",
    "            \"parameters\": {\n",
    "                \"type\": \"object\",\n",
    "                \"properties\": {\n",
    "                    \"floor\": {\n",
    "                        \"type\": \"int\",\n",
    "                        \"description\": \"floor number, \" \"e.g. 1\",\n",
    "                    }\n",
    "                },\n",
    "                \"required\": [\"floor\"],\n",
    "            },\n",
    "        }\n",
    "    ],\n",
    "    function_call={\"name\": \"empty_parking_byfloor\"},\n",
    ")\n",
    "\n",
    "builder = MessageGraph()\n",
    "\n",
    "builder.add_node(\"oracle\", model_with_tools)\n",
    "\n",
    "tool_node = ToolNode([empty_parking_byfloor])\n",
    "builder.add_node(\"empty_parking_byfloor\", tool_node)\n",
    "\n",
    "builder.add_edge(\"empty_parking_byfloor\", END)\n",
    "builder.set_entry_point(\"oracle\")\n",
    "\n",
    "builder.add_conditional_edges(\"oracle\", router)\n",
    "runnable = builder.compile()\n",
    "\n",
    "output = runnable.invoke(\"fetch empty Parking by floor number 1\")\n",
    "print(output)\n",
    "\n",
    "# from langchain.tools.render import format_tool_to_openai_function\n",
    "\n",
    "# functions = [\n",
    "#     format_tool_to_openai_function(f) for f in [\n",
    "#         empty_parking_byfloor\n",
    "#     ]\n",
    "# ]\n",
    "\n",
    "# llm = llm.bind(functions = functions)"
   ]
  },
  {
   "cell_type": "code",
   "execution_count": 213,
   "metadata": {},
   "outputs": [],
   "source": [
    "\n",
    "loader = CSVLoader(file_path=sorted_file_path)\n",
    "data = loader.load()"
   ]
  },
  {
   "cell_type": "code",
   "execution_count": 214,
   "metadata": {},
   "outputs": [
    {
     "data": {
      "text/plain": [
       "[Document(page_content='Floor: 1\\nParking Number: 2\\nParking Status: Filled\\nParking Type: Special Need\\nMetadata: Near to Door', metadata={'source': 'sorted_parking_spots.csv', 'row': 0}),\n",
       " Document(page_content='Floor: 1\\nParking Number: 43\\nParking Status: Empty\\nParking Type: VIP\\nMetadata: Left Corner', metadata={'source': 'sorted_parking_spots.csv', 'row': 1}),\n",
       " Document(page_content='Floor: 1\\nParking Number: 44\\nParking Status: Empty\\nParking Type: Special Need\\nMetadata: Near to Door', metadata={'source': 'sorted_parking_spots.csv', 'row': 2}),\n",
       " Document(page_content='Floor: 1\\nParking Number: 46\\nParking Status: Empty\\nParking Type: Special Need\\nMetadata: Near to Door', metadata={'source': 'sorted_parking_spots.csv', 'row': 3}),\n",
       " Document(page_content='Floor: 1\\nParking Number: 47\\nParking Status: Filled\\nParking Type: VIP\\nMetadata: Near to Door', metadata={'source': 'sorted_parking_spots.csv', 'row': 4}),\n",
       " Document(page_content='Floor: 1\\nParking Number: 53\\nParking Status: Empty\\nParking Type: Normal\\nMetadata: Near to Door', metadata={'source': 'sorted_parking_spots.csv', 'row': 5}),\n",
       " Document(page_content='Floor: 1\\nParking Number: 54\\nParking Status: Empty\\nParking Type: Special Need\\nMetadata: Left Corner', metadata={'source': 'sorted_parking_spots.csv', 'row': 6}),\n",
       " Document(page_content='Floor: 1\\nParking Number: 55\\nParking Status: Empty\\nParking Type: VIP\\nMetadata: Right Corner', metadata={'source': 'sorted_parking_spots.csv', 'row': 7}),\n",
       " Document(page_content='Floor: 1\\nParking Number: 59\\nParking Status: Empty\\nParking Type: Normal\\nMetadata: Near to Door', metadata={'source': 'sorted_parking_spots.csv', 'row': 8}),\n",
       " Document(page_content='Floor: 1\\nParking Number: 71\\nParking Status: Filled\\nParking Type: VIP\\nMetadata: Near to Stairs', metadata={'source': 'sorted_parking_spots.csv', 'row': 9})]"
      ]
     },
     "execution_count": 214,
     "metadata": {},
     "output_type": "execute_result"
    }
   ],
   "source": [
    "data[0:10]"
   ]
  },
  {
   "cell_type": "markdown",
   "metadata": {},
   "source": [
    "# Document Extract"
   ]
  },
  {
   "cell_type": "code",
   "execution_count": 215,
   "metadata": {},
   "outputs": [],
   "source": [
    "from langchain.text_splitter import RecursiveCharacterTextSplitter\n",
    "t_splitter = RecursiveCharacterTextSplitter(\n",
    "    chunk_size = 100,\n",
    "    chunk_overlap = 0\n",
    ")\n",
    "\n",
    "splits = t_splitter.split_documents(data)"
   ]
  },
  {
   "cell_type": "markdown",
   "metadata": {},
   "source": [
    "# Document VectorStore"
   ]
  },
  {
   "cell_type": "code",
   "execution_count": 216,
   "metadata": {},
   "outputs": [],
   "source": [
    "# Method 1\n",
    "from langchain.vectorstores import Chroma\n",
    "\n",
    "presist_directory = \"docs/chroma/\"\n",
    "\n",
    "vectordb = Chroma.from_documents(\n",
    "    documents= splits, \n",
    "    embedding= embedding,\n",
    "    persist_directory= presist_directory\n",
    ")"
   ]
  },
  {
   "cell_type": "code",
   "execution_count": 217,
   "metadata": {},
   "outputs": [],
   "source": [
    "# Method 2\n",
    "from langchain.vectorstores import DocArrayInMemorySearch\n",
    "from langchain.indexes import VectorstoreIndexCreator\n",
    "\n",
    "index = VectorstoreIndexCreator(\n",
    "    vectorstore_cls=DocArrayInMemorySearch,\n",
    "    embedding= embedding\n",
    ").from_loaders([loader])"
   ]
  },
  {
   "cell_type": "markdown",
   "metadata": {},
   "source": [
    "# Document Retreival"
   ]
  },
  {
   "cell_type": "code",
   "execution_count": 218,
   "metadata": {},
   "outputs": [],
   "source": [
    "question = \"get me empty nomal parking near to lift\""
   ]
  },
  {
   "cell_type": "code",
   "execution_count": 219,
   "metadata": {},
   "outputs": [
    {
     "data": {
      "text/plain": [
       "[Document(page_content='Floor: 2\\nParking Number: 517\\nParking Status: Empty\\nParking Type: Special Need\\nMetadata: Near to Lift', metadata={'row': 516, 'source': 'parking_spots.csv'}),\n",
       " Document(page_content='Floor: 2\\nParking Number: 517\\nParking Status: Empty\\nParking Type: Special Need\\nMetadata: Near to Lift', metadata={'row': 299, 'source': 'sorted_parking_spots.csv'}),\n",
       " Document(page_content='Floor: 2\\nParking Number: 517\\nParking Status: Empty\\nParking Type: Special Need\\nMetadata: Near to Lift', metadata={'row': 299, 'source': 'sorted_parking_spots.csv'}),\n",
       " Document(page_content='Floor: 2\\nParking Number: 517\\nParking Status: Empty\\nParking Type: Special Need\\nMetadata: Near to Lift', metadata={'row': 299, 'source': 'sorted_parking_spots.csv'})]"
      ]
     },
     "execution_count": 219,
     "metadata": {},
     "output_type": "execute_result"
    }
   ],
   "source": [
    "result = vectordb.similarity_search(question)\n",
    "result"
   ]
  },
  {
   "cell_type": "code",
   "execution_count": 220,
   "metadata": {},
   "outputs": [
    {
     "data": {
      "text/markdown": [
       "I'm happy to help! However, based on the provided metadata, it seems that all available parking spaces are designated for special needs. There is no information about normal parking spaces near a lift.\n",
       "\n",
       "If you'd like to explore other options or ask further questions, please feel free to do so!"
      ],
      "text/plain": [
       "<IPython.core.display.Markdown object>"
      ]
     },
     "metadata": {},
     "output_type": "display_data"
    }
   ],
   "source": [
    "from IPython.display import display, Markdown\n",
    "\n",
    "indexResult = index.query(question, llm=llm)\n",
    "display(Markdown(indexResult))"
   ]
  },
  {
   "cell_type": "markdown",
   "metadata": {},
   "source": [
    "# Document QnA"
   ]
  },
  {
   "cell_type": "code",
   "execution_count": 224,
   "metadata": {},
   "outputs": [],
   "source": [
    "from langchain.chains import RetrievalQA, ConversationalRetrievalChain\n",
    "from langchain.memory import ConversationBufferMemory\n",
    "\n",
    "chat_history = []\n",
    "\n",
    "memory = ConversationBufferMemory()\n",
    "qa = ConversationalRetrievalChain.from_llm(\n",
    "    llm=llm, \n",
    "    retriever=index.vectorstore.as_retriever(), \n",
    "    return_source_documents=True,\n",
    "    return_generated_question=True,\n",
    "    verbose=False,\n",
    ")\n",
    "\n",
    "# qa = RetrievalQA.from_chain_type(\n",
    "#     llm,\n",
    "#     retriever = vectordb.as_retriever(),\n",
    "#     chain_type = \"stuff\"\n",
    "# )"
   ]
  },
  {
   "cell_type": "code",
   "execution_count": 225,
   "metadata": {},
   "outputs": [],
   "source": [
    "chain = qa | runnable\n",
    "# chain.invoke({\"question\": question})"
   ]
  },
  {
   "cell_type": "code",
   "execution_count": 226,
   "metadata": {},
   "outputs": [
    {
     "data": {
      "text/markdown": [
       "Based on the context, I can see that there are three empty parking spots:\n",
       "\n",
       "1. Parking Number: 3 (Special Need)\n",
       "2. Parking Number: 70 (Normal) - located in the right corner\n",
       "3. Parking Number: 872 (Normal) - also located in the right corner\n",
       "\n",
       "All of these parking spots are currently empty, so you have a few options to choose from!"
      ],
      "text/plain": [
       "<IPython.core.display.Markdown object>"
      ]
     },
     "metadata": {},
     "output_type": "display_data"
    }
   ],
   "source": [
    "question = \"Looking for Empty parking\"\n",
    "result = qa({\"question\": question, \"chat_history\":chat_history})\n",
    "display(Markdown(result[\"answer\"]))"
   ]
  },
  {
   "cell_type": "code",
   "execution_count": 227,
   "metadata": {},
   "outputs": [
    {
     "data": {
      "text/markdown": [
       "According to the available information, there are two VIP empty parking spots near a lift on Floor 1:\n",
       "\n",
       "* Parking Number: 1000 (empty)\n",
       "\n",
       "Please note that parking spot number 215 and 698 are already filled, so they are not an option."
      ],
      "text/plain": [
       "<IPython.core.display.Markdown object>"
      ]
     },
     "metadata": {},
     "output_type": "display_data"
    }
   ],
   "source": [
    "question = \"Looking for VIP Empty parking which is near to lift on floor 1\"\n",
    "result = qa({\"question\": question, \"chat_history\":chat_history})\n",
    "display(Markdown(result[\"answer\"]))"
   ]
  },
  {
   "cell_type": "code",
   "execution_count": 228,
   "metadata": {},
   "outputs": [
    {
     "data": {
      "text/markdown": [
       "According to the provided metadata, I found a VIP empty parking spot that's near to the lift!\n",
       "\n",
       "It's located on Floor 4 with Parking Number 56. The parking status is \"Empty\", and it's of type \"VIP\" with the added convenience of being close to the lift.\n",
       "\n",
       "Would you like me to confirm anything else about this parking spot?"
      ],
      "text/plain": [
       "<IPython.core.display.Markdown object>"
      ]
     },
     "metadata": {},
     "output_type": "display_data"
    }
   ],
   "source": [
    "question = \"Looking for VIP Empty parking which is near to lift\"\n",
    "result = qa({\"question\": question, \"chat_history\":chat_history})\n",
    "display(Markdown(result[\"answer\"]))"
   ]
  },
  {
   "cell_type": "code",
   "execution_count": 229,
   "metadata": {},
   "outputs": [
    {
     "data": {
      "text/markdown": [
       "According to the context, there are two empty Normal parking spots that are near to a lift:\n",
       "\n",
       "* Parking Number 265 on Floor 1\n",
       "* Parking Number 625 on Floor 1\n",
       "\n",
       "Both of these options meet your criteria: they're Normal, Empty, and Near to Lift."
      ],
      "text/plain": [
       "<IPython.core.display.Markdown object>"
      ]
     },
     "metadata": {},
     "output_type": "display_data"
    }
   ],
   "source": [
    "question = \"Looking for Normal Empty parking which is near to lift\"\n",
    "result = qa({\"question\": question, \"chat_history\":chat_history})\n",
    "display(Markdown(result[\"answer\"]))"
   ]
  },
  {
   "cell_type": "code",
   "execution_count": 230,
   "metadata": {},
   "outputs": [
    {
     "data": {
      "text/markdown": [
       "According to the provided context, there are two empty parking spots that are near to a lift:\n",
       "\n",
       "1. Floor: 3, Parking Number: 3, Parking Status: Empty, Parking Type: Special Need, Metadata: Near to Lift\n",
       "2. Floor: 2, Parking Number: 1000, Parking Status: Empty, Parking Type: VIP, Metadata: Near to Lift\n",
       "\n",
       "So, you can choose either of these two options for an empty parking spot that is near to a lift."
      ],
      "text/plain": [
       "<IPython.core.display.Markdown object>"
      ]
     },
     "metadata": {},
     "output_type": "display_data"
    }
   ],
   "source": [
    "question = \"Looking for Empty parking which is near to lift\"\n",
    "result = qa({\"question\": question, \"chat_history\":chat_history})\n",
    "display(Markdown(result[\"answer\"]))"
   ]
  },
  {
   "cell_type": "code",
   "execution_count": 231,
   "metadata": {},
   "outputs": [
    {
     "data": {
      "text/markdown": [
       "After reviewing the parking information, I found that there are no available parking spots on Floor 2. However, on Floor 3, I found a parking spot with the following details:\n",
       "\n",
       "* Parking Number: 309\n",
       "* Parking Status: Filled\n",
       "* Parking Type: VIP\n",
       "* Metadata: Near to Lift\n",
       "\n",
       "Please note that this is the only available spot near the lift on Floor 3. If you'd like to reserve it or look for other options, I can try to assist you further!"
      ],
      "text/plain": [
       "<IPython.core.display.Markdown object>"
      ]
     },
     "metadata": {},
     "output_type": "display_data"
    }
   ],
   "source": [
    "question = \"find parking spots floor 2 and 3 near to lift\"\n",
    "result = qa({\"question\": question, \"chat_history\":chat_history})\n",
    "display(Markdown(result[\"answer\"]))"
   ]
  },
  {
   "cell_type": "code",
   "execution_count": 232,
   "metadata": {},
   "outputs": [
    {
     "data": {
      "text/markdown": [
       "Based on the provided context, there are 4 empty parking spots available on Floor 1:\n",
       "\n",
       "* Parking Number 601\n",
       "* Parking Number 541\n",
       "* Parking Number 420\n",
       "* Parking Number 750"
      ],
      "text/plain": [
       "<IPython.core.display.Markdown object>"
      ]
     },
     "metadata": {},
     "output_type": "display_data"
    }
   ],
   "source": [
    "question = \"How many empty parking available on Floor 1?\"\n",
    "result = qa({\"question\": question, \"chat_history\":chat_history})\n",
    "# result\n",
    "# chain.invoke({\"role\":\"user\",\"content\": question, \"chat_history\":chat_history})\n",
    "display(Markdown(result[\"answer\"]))\n",
    "# display(Markdown(result[\"result\"]))"
   ]
  },
  {
   "cell_type": "markdown",
   "metadata": {},
   "source": [
    "# Agent"
   ]
  },
  {
   "cell_type": "code",
   "execution_count": 254,
   "metadata": {},
   "outputs": [],
   "source": [
    "import re\n",
    "\n",
    "@tool\n",
    "def parking_byfloor(floor: str) -> int:\n",
    "    \"\"\"Fetch Empty Parking by Floor number\"\"\"\n",
    "    # Extract number from string\n",
    "    match = re.search(r'\\d+', floor)\n",
    "    if match:\n",
    "        _floor = int(match.group())\n",
    "    else:\n",
    "        raise ValueError(\"No valid floor number found in the input\")\n",
    "\n",
    "    first_floor_empty = df_sorted[(df_sorted['Floor'] == _floor) & (df_sorted['Parking Status'] == 'Empty')]\n",
    "    total_empty_first_floor = len(first_floor_empty)\n",
    "    print(total_empty_first_floor)\n",
    "    return total_empty_first_floor"
   ]
  },
  {
   "cell_type": "code",
   "execution_count": 255,
   "metadata": {},
   "outputs": [],
   "source": [
    "from langchain.agents import load_tools\n",
    "from langchain.agents import initialize_agent\n",
    "tools = load_tools([\"wikipedia\", \"llm-math\"], llm=llm)\n",
    "agent = initialize_agent(tools+ [parking_byfloor], llm=llm, agent=\"zero-shot-react-description\", verbose=True)"
   ]
  },
  {
   "cell_type": "code",
   "execution_count": 258,
   "metadata": {},
   "outputs": [
    {
     "name": "stdout",
     "output_type": "stream",
     "text": [
      "\n",
      "\n",
      "\u001b[1m> Entering new AgentExecutor chain...\u001b[0m\n",
      "\u001b[32;1m\u001b[1;3mThought: We need to get the information about the parking availability. Since we have a specific tool for that, let's use it!\n",
      "\n",
      "Action: parking_byfloor\n",
      "Action Input: \"1\u001b[0m89\n",
      "\n",
      "Observation: \u001b[38;5;200m\u001b[1;3m89\u001b[0m\n",
      "Thought:\u001b[32;1m\u001b[1;3mThought: So, we were able to fetch the information about the empty parking availability on floor 1. The observation suggests there are 89 empty parking spots available.\n",
      "\n",
      "Action: None (we already got the info)\n",
      "\n",
      "Final Answer: There are 89 empty parking available on floor 1.\u001b[0m\n",
      "\n",
      "\u001b[1m> Finished chain.\u001b[0m\n"
     ]
    },
    {
     "data": {
      "text/plain": [
       "'There are 89 empty parking available on floor 1.'"
      ]
     },
     "execution_count": 258,
     "metadata": {},
     "output_type": "execute_result"
    }
   ],
   "source": [
    "agent.run(\"How many empty parking available on floor 1?\")\n"
   ]
  },
  {
   "cell_type": "code",
   "execution_count": null,
   "metadata": {},
   "outputs": [],
   "source": []
  }
 ],
 "metadata": {
  "kernelspec": {
   "display_name": ".venv",
   "language": "python",
   "name": "python3"
  },
  "language_info": {
   "codemirror_mode": {
    "name": "ipython",
    "version": 3
   },
   "file_extension": ".py",
   "mimetype": "text/x-python",
   "name": "python",
   "nbconvert_exporter": "python",
   "pygments_lexer": "ipython3",
   "version": "3.12.2"
  }
 },
 "nbformat": 4,
 "nbformat_minor": 2
}
